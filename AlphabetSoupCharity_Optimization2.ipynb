{
 "cells": [
  {
   "cell_type": "markdown",
   "metadata": {},
   "source": [
    "## Preprocessing"
   ]
  },
  {
   "cell_type": "code",
   "execution_count": 1,
   "metadata": {
    "tags": []
   },
   "outputs": [
    {
     "data": {
      "text/html": [
       "<div>\n",
       "<style scoped>\n",
       "    .dataframe tbody tr th:only-of-type {\n",
       "        vertical-align: middle;\n",
       "    }\n",
       "\n",
       "    .dataframe tbody tr th {\n",
       "        vertical-align: top;\n",
       "    }\n",
       "\n",
       "    .dataframe thead th {\n",
       "        text-align: right;\n",
       "    }\n",
       "</style>\n",
       "<table border=\"1\" class=\"dataframe\">\n",
       "  <thead>\n",
       "    <tr style=\"text-align: right;\">\n",
       "      <th></th>\n",
       "      <th>EIN</th>\n",
       "      <th>NAME</th>\n",
       "      <th>APPLICATION_TYPE</th>\n",
       "      <th>AFFILIATION</th>\n",
       "      <th>CLASSIFICATION</th>\n",
       "      <th>USE_CASE</th>\n",
       "      <th>ORGANIZATION</th>\n",
       "      <th>STATUS</th>\n",
       "      <th>INCOME_AMT</th>\n",
       "      <th>SPECIAL_CONSIDERATIONS</th>\n",
       "      <th>ASK_AMT</th>\n",
       "      <th>IS_SUCCESSFUL</th>\n",
       "    </tr>\n",
       "  </thead>\n",
       "  <tbody>\n",
       "    <tr>\n",
       "      <th>0</th>\n",
       "      <td>10520599</td>\n",
       "      <td>BLUE KNIGHTS MOTORCYCLE CLUB</td>\n",
       "      <td>T10</td>\n",
       "      <td>Independent</td>\n",
       "      <td>C1000</td>\n",
       "      <td>ProductDev</td>\n",
       "      <td>Association</td>\n",
       "      <td>1</td>\n",
       "      <td>0</td>\n",
       "      <td>N</td>\n",
       "      <td>5000</td>\n",
       "      <td>1</td>\n",
       "    </tr>\n",
       "    <tr>\n",
       "      <th>1</th>\n",
       "      <td>10531628</td>\n",
       "      <td>AMERICAN CHESAPEAKE CLUB CHARITABLE TR</td>\n",
       "      <td>T3</td>\n",
       "      <td>Independent</td>\n",
       "      <td>C2000</td>\n",
       "      <td>Preservation</td>\n",
       "      <td>Co-operative</td>\n",
       "      <td>1</td>\n",
       "      <td>1-9999</td>\n",
       "      <td>N</td>\n",
       "      <td>108590</td>\n",
       "      <td>1</td>\n",
       "    </tr>\n",
       "    <tr>\n",
       "      <th>2</th>\n",
       "      <td>10547893</td>\n",
       "      <td>ST CLOUD PROFESSIONAL FIREFIGHTERS</td>\n",
       "      <td>T5</td>\n",
       "      <td>CompanySponsored</td>\n",
       "      <td>C3000</td>\n",
       "      <td>ProductDev</td>\n",
       "      <td>Association</td>\n",
       "      <td>1</td>\n",
       "      <td>0</td>\n",
       "      <td>N</td>\n",
       "      <td>5000</td>\n",
       "      <td>0</td>\n",
       "    </tr>\n",
       "    <tr>\n",
       "      <th>3</th>\n",
       "      <td>10553066</td>\n",
       "      <td>SOUTHSIDE ATHLETIC ASSOCIATION</td>\n",
       "      <td>T3</td>\n",
       "      <td>CompanySponsored</td>\n",
       "      <td>C2000</td>\n",
       "      <td>Preservation</td>\n",
       "      <td>Trust</td>\n",
       "      <td>1</td>\n",
       "      <td>10000-24999</td>\n",
       "      <td>N</td>\n",
       "      <td>6692</td>\n",
       "      <td>1</td>\n",
       "    </tr>\n",
       "    <tr>\n",
       "      <th>4</th>\n",
       "      <td>10556103</td>\n",
       "      <td>GENETIC RESEARCH INSTITUTE OF THE DESERT</td>\n",
       "      <td>T3</td>\n",
       "      <td>Independent</td>\n",
       "      <td>C1000</td>\n",
       "      <td>Heathcare</td>\n",
       "      <td>Trust</td>\n",
       "      <td>1</td>\n",
       "      <td>100000-499999</td>\n",
       "      <td>N</td>\n",
       "      <td>142590</td>\n",
       "      <td>1</td>\n",
       "    </tr>\n",
       "  </tbody>\n",
       "</table>\n",
       "</div>"
      ],
      "text/plain": [
       "        EIN                                      NAME APPLICATION_TYPE  \\\n",
       "0  10520599              BLUE KNIGHTS MOTORCYCLE CLUB              T10   \n",
       "1  10531628    AMERICAN CHESAPEAKE CLUB CHARITABLE TR               T3   \n",
       "2  10547893        ST CLOUD PROFESSIONAL FIREFIGHTERS               T5   \n",
       "3  10553066            SOUTHSIDE ATHLETIC ASSOCIATION               T3   \n",
       "4  10556103  GENETIC RESEARCH INSTITUTE OF THE DESERT               T3   \n",
       "\n",
       "        AFFILIATION CLASSIFICATION      USE_CASE  ORGANIZATION  STATUS  \\\n",
       "0       Independent          C1000    ProductDev   Association       1   \n",
       "1       Independent          C2000  Preservation  Co-operative       1   \n",
       "2  CompanySponsored          C3000    ProductDev   Association       1   \n",
       "3  CompanySponsored          C2000  Preservation         Trust       1   \n",
       "4       Independent          C1000     Heathcare         Trust       1   \n",
       "\n",
       "      INCOME_AMT SPECIAL_CONSIDERATIONS  ASK_AMT  IS_SUCCESSFUL  \n",
       "0              0                      N     5000              1  \n",
       "1         1-9999                      N   108590              1  \n",
       "2              0                      N     5000              0  \n",
       "3    10000-24999                      N     6692              1  \n",
       "4  100000-499999                      N   142590              1  "
      ]
     },
     "execution_count": 1,
     "metadata": {},
     "output_type": "execute_result"
    }
   ],
   "source": [
    "# Import our dependencies\n",
    "from sklearn.model_selection import train_test_split\n",
    "from sklearn.preprocessing import StandardScaler\n",
    "import pandas as pd\n",
    "import tensorflow as tf\n",
    "\n",
    "#  Import and read the charity_data.csv.\n",
    "import pandas as pd \n",
    "application_df = pd.read_csv(\"https://static.bc-edx.com/data/dl-1-2/m21/lms/starter/charity_data.csv\")\n",
    "application_df.head()"
   ]
  },
  {
   "cell_type": "code",
   "execution_count": 2,
   "metadata": {
    "tags": []
   },
   "outputs": [],
   "source": [
    "# Drop the non-beneficial ID columns, 'EIN' and 'NAME'.\n",
    "application_df_trimmed = application_df.copy()\n",
    "application_df_trimmed = application_df_trimmed.drop(['EIN', 'NAME'], axis=1)"
   ]
  },
  {
   "cell_type": "code",
   "execution_count": 3,
   "metadata": {
    "tags": []
   },
   "outputs": [
    {
     "data": {
      "text/plain": [
       "APPLICATION_TYPE            17\n",
       "AFFILIATION                  6\n",
       "CLASSIFICATION              71\n",
       "USE_CASE                     5\n",
       "ORGANIZATION                 4\n",
       "STATUS                       2\n",
       "INCOME_AMT                   9\n",
       "SPECIAL_CONSIDERATIONS       2\n",
       "ASK_AMT                   8747\n",
       "IS_SUCCESSFUL                2\n",
       "dtype: int64"
      ]
     },
     "execution_count": 3,
     "metadata": {},
     "output_type": "execute_result"
    }
   ],
   "source": [
    "# Determine the number of unique values in each column.\n",
    "application_df_trimmed.nunique(axis=0)"
   ]
  },
  {
   "cell_type": "markdown",
   "metadata": {},
   "source": [
    "### Function to reduce categories within a column based on df, column, and count limit"
   ]
  },
  {
   "cell_type": "code",
   "execution_count": 4,
   "metadata": {
    "tags": []
   },
   "outputs": [],
   "source": [
    "def replace_with_other(df, column, count):\n",
    "    \n",
    "    # Get value counts\n",
    "    val_count_series = df[column].value_counts()\n",
    "    \n",
    "    # create a list of items to be replaced for values less than a givent count\n",
    "    items_to_replace = []\n",
    "    for i in range(len(val_count_series)):\n",
    "        if val_count_series[i] < count:\n",
    "            items_to_replace.append(val_count_series.index[i])\n",
    "\n",
    "    # Replace in dataframe\n",
    "    for item in items_to_replace:\n",
    "        df[column] = df[column].replace(item,\"Other\")\n",
    "    \n",
    "    return df"
   ]
  },
  {
   "cell_type": "markdown",
   "metadata": {},
   "source": [
    "## Filter for one application type"
   ]
  },
  {
   "cell_type": "code",
   "execution_count": 5,
   "metadata": {
    "tags": []
   },
   "outputs": [
    {
     "data": {
      "text/plain": [
       "T3     27037\n",
       "T4      1542\n",
       "T6      1216\n",
       "T5      1173\n",
       "T19     1065\n",
       "T8       737\n",
       "T7       725\n",
       "T10      528\n",
       "T9       156\n",
       "T13       66\n",
       "T12       27\n",
       "T2        16\n",
       "T25        3\n",
       "T14        3\n",
       "T29        2\n",
       "T15        2\n",
       "T17        1\n",
       "Name: APPLICATION_TYPE, dtype: int64"
      ]
     },
     "execution_count": 5,
     "metadata": {},
     "output_type": "execute_result"
    }
   ],
   "source": [
    "application_df_trimmed['APPLICATION_TYPE'].value_counts()"
   ]
  },
  {
   "cell_type": "code",
   "execution_count": 6,
   "metadata": {
    "tags": []
   },
   "outputs": [
    {
     "data": {
      "text/html": [
       "<div>\n",
       "<style scoped>\n",
       "    .dataframe tbody tr th:only-of-type {\n",
       "        vertical-align: middle;\n",
       "    }\n",
       "\n",
       "    .dataframe tbody tr th {\n",
       "        vertical-align: top;\n",
       "    }\n",
       "\n",
       "    .dataframe thead th {\n",
       "        text-align: right;\n",
       "    }\n",
       "</style>\n",
       "<table border=\"1\" class=\"dataframe\">\n",
       "  <thead>\n",
       "    <tr style=\"text-align: right;\">\n",
       "      <th></th>\n",
       "      <th>AFFILIATION</th>\n",
       "      <th>CLASSIFICATION</th>\n",
       "      <th>USE_CASE</th>\n",
       "      <th>ORGANIZATION</th>\n",
       "      <th>STATUS</th>\n",
       "      <th>INCOME_AMT</th>\n",
       "      <th>SPECIAL_CONSIDERATIONS</th>\n",
       "      <th>ASK_AMT</th>\n",
       "      <th>IS_SUCCESSFUL</th>\n",
       "    </tr>\n",
       "  </thead>\n",
       "  <tbody>\n",
       "    <tr>\n",
       "      <th>1</th>\n",
       "      <td>Independent</td>\n",
       "      <td>C2000</td>\n",
       "      <td>Preservation</td>\n",
       "      <td>Co-operative</td>\n",
       "      <td>1</td>\n",
       "      <td>1-9999</td>\n",
       "      <td>N</td>\n",
       "      <td>108590</td>\n",
       "      <td>1</td>\n",
       "    </tr>\n",
       "    <tr>\n",
       "      <th>3</th>\n",
       "      <td>CompanySponsored</td>\n",
       "      <td>C2000</td>\n",
       "      <td>Preservation</td>\n",
       "      <td>Trust</td>\n",
       "      <td>1</td>\n",
       "      <td>10000-24999</td>\n",
       "      <td>N</td>\n",
       "      <td>6692</td>\n",
       "      <td>1</td>\n",
       "    </tr>\n",
       "    <tr>\n",
       "      <th>4</th>\n",
       "      <td>Independent</td>\n",
       "      <td>C1000</td>\n",
       "      <td>Heathcare</td>\n",
       "      <td>Trust</td>\n",
       "      <td>1</td>\n",
       "      <td>100000-499999</td>\n",
       "      <td>N</td>\n",
       "      <td>142590</td>\n",
       "      <td>1</td>\n",
       "    </tr>\n",
       "    <tr>\n",
       "      <th>5</th>\n",
       "      <td>Independent</td>\n",
       "      <td>C1200</td>\n",
       "      <td>Preservation</td>\n",
       "      <td>Trust</td>\n",
       "      <td>1</td>\n",
       "      <td>0</td>\n",
       "      <td>N</td>\n",
       "      <td>5000</td>\n",
       "      <td>1</td>\n",
       "    </tr>\n",
       "    <tr>\n",
       "      <th>6</th>\n",
       "      <td>Independent</td>\n",
       "      <td>C1000</td>\n",
       "      <td>Preservation</td>\n",
       "      <td>Trust</td>\n",
       "      <td>1</td>\n",
       "      <td>100000-499999</td>\n",
       "      <td>N</td>\n",
       "      <td>31452</td>\n",
       "      <td>1</td>\n",
       "    </tr>\n",
       "  </tbody>\n",
       "</table>\n",
       "</div>"
      ],
      "text/plain": [
       "        AFFILIATION CLASSIFICATION      USE_CASE  ORGANIZATION  STATUS  \\\n",
       "1       Independent          C2000  Preservation  Co-operative       1   \n",
       "3  CompanySponsored          C2000  Preservation         Trust       1   \n",
       "4       Independent          C1000     Heathcare         Trust       1   \n",
       "5       Independent          C1200  Preservation         Trust       1   \n",
       "6       Independent          C1000  Preservation         Trust       1   \n",
       "\n",
       "      INCOME_AMT SPECIAL_CONSIDERATIONS  ASK_AMT  IS_SUCCESSFUL  \n",
       "1         1-9999                      N   108590              1  \n",
       "3    10000-24999                      N     6692              1  \n",
       "4  100000-499999                      N   142590              1  \n",
       "5              0                      N     5000              1  \n",
       "6  100000-499999                      N    31452              1  "
      ]
     },
     "execution_count": 6,
     "metadata": {},
     "output_type": "execute_result"
    }
   ],
   "source": [
    "# Filter for a single application type and then drop that column\n",
    "application_df_filtered = application_df_trimmed[application_df_trimmed['APPLICATION_TYPE'] == 'T3']\n",
    "application_df_filtered = application_df_filtered.drop(['APPLICATION_TYPE'], axis=1)\n",
    "application_df_filtered.head()"
   ]
  },
  {
   "cell_type": "markdown",
   "metadata": {},
   "source": [
    "## Additional Feature Reduction\n",
    "There are 27,037 rows. The next few sections review each column distribution for further reduction.<br>\n",
    "A rough guideline is to keep 97.5% feature differentiation per column (26,361 rows)"
   ]
  },
  {
   "cell_type": "code",
   "execution_count": 7,
   "metadata": {
    "tags": []
   },
   "outputs": [
    {
     "data": {
      "text/plain": [
       "C1000    12909\n",
       "C2000     5189\n",
       "C1200     4825\n",
       "C2100     1883\n",
       "C7000      777\n",
       "         ...  \n",
       "C2170        1\n",
       "C4120        1\n",
       "C2561        1\n",
       "C1245        1\n",
       "C2150        1\n",
       "Name: CLASSIFICATION, Length: 71, dtype: int64"
      ]
     },
     "execution_count": 7,
     "metadata": {},
     "output_type": "execute_result"
    }
   ],
   "source": [
    "application_df_filtered['CLASSIFICATION'].value_counts()"
   ]
  },
  {
   "cell_type": "code",
   "execution_count": 8,
   "metadata": {
    "tags": []
   },
   "outputs": [
    {
     "data": {
      "text/plain": [
       "C1000    12909\n",
       "C2000     5189\n",
       "C1200     4825\n",
       "C2100     1883\n",
       "Other     1454\n",
       "C7000      777\n",
       "Name: CLASSIFICATION, dtype: int64"
      ]
     },
     "execution_count": 8,
     "metadata": {},
     "output_type": "execute_result"
    }
   ],
   "source": [
    "# 97% (26,230) rows captured by counts 500+\n",
    "# Reduce CLASSIFICATION to items with >= 500 counts\n",
    "application_df_filtered = replace_with_other(application_df_filtered, 'CLASSIFICATION', 500)\n",
    "application_df_filtered['CLASSIFICATION'].value_counts()"
   ]
  },
  {
   "cell_type": "code",
   "execution_count": 9,
   "metadata": {
    "tags": []
   },
   "outputs": [
    {
     "data": {
      "text/plain": [
       "Independent         15934\n",
       "CompanySponsored    11006\n",
       "Family/Parent          56\n",
       "National               28\n",
       "Regional               10\n",
       "Other                   3\n",
       "Name: AFFILIATION, dtype: int64"
      ]
     },
     "execution_count": 9,
     "metadata": {},
     "output_type": "execute_result"
    }
   ],
   "source": [
    "application_df_filtered['AFFILIATION'].value_counts()"
   ]
  },
  {
   "cell_type": "code",
   "execution_count": 10,
   "metadata": {
    "tags": []
   },
   "outputs": [
    {
     "data": {
      "text/plain": [
       "Independent         15934\n",
       "CompanySponsored    11006\n",
       "Other                  97\n",
       "Name: AFFILIATION, dtype: int64"
      ]
     },
     "execution_count": 10,
     "metadata": {},
     "output_type": "execute_result"
    }
   ],
   "source": [
    "# 99.6% (26,940) rows capture by counts 10,000+\n",
    "# Reduce AFFILIATION to items with >= 10000 counts\n",
    "application_df_filtered = replace_with_other(application_df_filtered, 'AFFILIATION', 10000)\n",
    "application_df_filtered['AFFILIATION'].value_counts()"
   ]
  },
  {
   "cell_type": "code",
   "execution_count": 11,
   "metadata": {
    "tags": []
   },
   "outputs": [
    {
     "data": {
      "text/plain": [
       "Trust           21174\n",
       "Association      5538\n",
       "Co-operative      289\n",
       "Corporation        36\n",
       "Name: ORGANIZATION, dtype: int64"
      ]
     },
     "execution_count": 11,
     "metadata": {},
     "output_type": "execute_result"
    }
   ],
   "source": [
    "application_df_filtered['ORGANIZATION'].value_counts()\n",
    "# 98% are captured by counts 5,000+ but there are only 2 other categories so leaving alone"
   ]
  },
  {
   "cell_type": "code",
   "execution_count": 12,
   "metadata": {
    "tags": []
   },
   "outputs": [
    {
     "data": {
      "text/plain": [
       "0                18625\n",
       "25000-99999       3138\n",
       "100000-499999     2949\n",
       "1M-5M              842\n",
       "1-9999             563\n",
       "10000-24999        443\n",
       "10M-50M            198\n",
       "5M-10M             153\n",
       "50M+               126\n",
       "Name: INCOME_AMT, dtype: int64"
      ]
     },
     "execution_count": 12,
     "metadata": {},
     "output_type": "execute_result"
    }
   ],
   "source": [
    "application_df_filtered['INCOME_AMT'].value_counts()"
   ]
  },
  {
   "cell_type": "code",
   "execution_count": 13,
   "metadata": {
    "tags": []
   },
   "outputs": [
    {
     "data": {
      "text/plain": [
       "0                18625\n",
       "25000-99999       3138\n",
       "100000-499999     2949\n",
       "1M+               1319\n",
       "1-9999             563\n",
       "10000-24999        443\n",
       "Name: INCOME_AMT, dtype: int64"
      ]
     },
     "execution_count": 13,
     "metadata": {},
     "output_type": "execute_result"
    }
   ],
   "source": [
    "# 91% are in the top 3 buckets with the million dollar ranges making up most of the tail\n",
    "# Consolidate, just the million dollar ranges\n",
    "\n",
    "# create the list to be replaced for values less than 500\n",
    "millions_to_replace = ['1M-5M', '5M-10M', '10M-50M', '50M+']\n",
    "\n",
    "# Replace in dataframe\n",
    "for item in millions_to_replace:\n",
    "    application_df_filtered['INCOME_AMT'] = application_df_filtered['INCOME_AMT'].replace(item,\"1M+\")\n",
    "\n",
    "application_df_filtered['INCOME_AMT'].value_counts()"
   ]
  },
  {
   "cell_type": "code",
   "execution_count": 14,
   "metadata": {
    "tags": []
   },
   "outputs": [
    {
     "data": {
      "text/plain": [
       "Preservation     26469\n",
       "CommunityServ      297\n",
       "Heathcare          146\n",
       "ProductDev         123\n",
       "Other                2\n",
       "Name: USE_CASE, dtype: int64"
      ]
     },
     "execution_count": 14,
     "metadata": {},
     "output_type": "execute_result"
    }
   ],
   "source": [
    "application_df_filtered['USE_CASE'].value_counts()"
   ]
  },
  {
   "cell_type": "code",
   "execution_count": 15,
   "metadata": {
    "tags": []
   },
   "outputs": [
    {
     "data": {
      "text/plain": [
       "1    27032\n",
       "0        5\n",
       "Name: STATUS, dtype: int64"
      ]
     },
     "execution_count": 15,
     "metadata": {},
     "output_type": "execute_result"
    }
   ],
   "source": [
    "application_df_filtered['STATUS'].value_counts()"
   ]
  },
  {
   "cell_type": "code",
   "execution_count": 16,
   "metadata": {
    "tags": []
   },
   "outputs": [
    {
     "data": {
      "text/plain": [
       "N    27010\n",
       "Y       27\n",
       "Name: SPECIAL_CONSIDERATIONS, dtype: int64"
      ]
     },
     "execution_count": 16,
     "metadata": {},
     "output_type": "execute_result"
    }
   ],
   "source": [
    "application_df_filtered['SPECIAL_CONSIDERATIONS'].value_counts()"
   ]
  },
  {
   "cell_type": "code",
   "execution_count": 17,
   "metadata": {
    "tags": []
   },
   "outputs": [
    {
     "data": {
      "text/html": [
       "<div>\n",
       "<style scoped>\n",
       "    .dataframe tbody tr th:only-of-type {\n",
       "        vertical-align: middle;\n",
       "    }\n",
       "\n",
       "    .dataframe tbody tr th {\n",
       "        vertical-align: top;\n",
       "    }\n",
       "\n",
       "    .dataframe thead th {\n",
       "        text-align: right;\n",
       "    }\n",
       "</style>\n",
       "<table border=\"1\" class=\"dataframe\">\n",
       "  <thead>\n",
       "    <tr style=\"text-align: right;\">\n",
       "      <th></th>\n",
       "      <th>AFFILIATION</th>\n",
       "      <th>CLASSIFICATION</th>\n",
       "      <th>ORGANIZATION</th>\n",
       "      <th>INCOME_AMT</th>\n",
       "      <th>ASK_AMT</th>\n",
       "      <th>IS_SUCCESSFUL</th>\n",
       "    </tr>\n",
       "  </thead>\n",
       "  <tbody>\n",
       "    <tr>\n",
       "      <th>1</th>\n",
       "      <td>Independent</td>\n",
       "      <td>C2000</td>\n",
       "      <td>Co-operative</td>\n",
       "      <td>1-9999</td>\n",
       "      <td>108590</td>\n",
       "      <td>1</td>\n",
       "    </tr>\n",
       "    <tr>\n",
       "      <th>3</th>\n",
       "      <td>CompanySponsored</td>\n",
       "      <td>C2000</td>\n",
       "      <td>Trust</td>\n",
       "      <td>10000-24999</td>\n",
       "      <td>6692</td>\n",
       "      <td>1</td>\n",
       "    </tr>\n",
       "    <tr>\n",
       "      <th>4</th>\n",
       "      <td>Independent</td>\n",
       "      <td>C1000</td>\n",
       "      <td>Trust</td>\n",
       "      <td>100000-499999</td>\n",
       "      <td>142590</td>\n",
       "      <td>1</td>\n",
       "    </tr>\n",
       "    <tr>\n",
       "      <th>5</th>\n",
       "      <td>Independent</td>\n",
       "      <td>C1200</td>\n",
       "      <td>Trust</td>\n",
       "      <td>0</td>\n",
       "      <td>5000</td>\n",
       "      <td>1</td>\n",
       "    </tr>\n",
       "    <tr>\n",
       "      <th>6</th>\n",
       "      <td>Independent</td>\n",
       "      <td>C1000</td>\n",
       "      <td>Trust</td>\n",
       "      <td>100000-499999</td>\n",
       "      <td>31452</td>\n",
       "      <td>1</td>\n",
       "    </tr>\n",
       "  </tbody>\n",
       "</table>\n",
       "</div>"
      ],
      "text/plain": [
       "        AFFILIATION CLASSIFICATION  ORGANIZATION     INCOME_AMT  ASK_AMT  \\\n",
       "1       Independent          C2000  Co-operative         1-9999   108590   \n",
       "3  CompanySponsored          C2000         Trust    10000-24999     6692   \n",
       "4       Independent          C1000         Trust  100000-499999   142590   \n",
       "5       Independent          C1200         Trust              0     5000   \n",
       "6       Independent          C1000         Trust  100000-499999    31452   \n",
       "\n",
       "   IS_SUCCESSFUL  \n",
       "1              1  \n",
       "3              1  \n",
       "4              1  \n",
       "5              1  \n",
       "6              1  "
      ]
     },
     "execution_count": 17,
     "metadata": {},
     "output_type": "execute_result"
    }
   ],
   "source": [
    "# 97.9% (26469/27037) T3 rows have Use Case = Preservation\n",
    "# 99.98% (27032/27037) T3 rows have Status = 1\n",
    "# 99.9% (27010/27037) T3 rows have Special Consideration = N\n",
    "\n",
    "# Drop these columns\n",
    "application_df_filtered = application_df_filtered.drop(['USE_CASE', 'STATUS', 'SPECIAL_CONSIDERATIONS'], axis=1)\n",
    "application_df_filtered.head()"
   ]
  },
  {
   "cell_type": "markdown",
   "metadata": {},
   "source": [
    "## Convert categorical data to numerical"
   ]
  },
  {
   "cell_type": "code",
   "execution_count": 18,
   "metadata": {},
   "outputs": [
    {
     "data": {
      "text/html": [
       "<div>\n",
       "<style scoped>\n",
       "    .dataframe tbody tr th:only-of-type {\n",
       "        vertical-align: middle;\n",
       "    }\n",
       "\n",
       "    .dataframe tbody tr th {\n",
       "        vertical-align: top;\n",
       "    }\n",
       "\n",
       "    .dataframe thead th {\n",
       "        text-align: right;\n",
       "    }\n",
       "</style>\n",
       "<table border=\"1\" class=\"dataframe\">\n",
       "  <thead>\n",
       "    <tr style=\"text-align: right;\">\n",
       "      <th></th>\n",
       "      <th>ASK_AMT</th>\n",
       "      <th>IS_SUCCESSFUL</th>\n",
       "      <th>AFFILIATION_CompanySponsored</th>\n",
       "      <th>AFFILIATION_Independent</th>\n",
       "      <th>AFFILIATION_Other</th>\n",
       "      <th>CLASSIFICATION_C1000</th>\n",
       "      <th>CLASSIFICATION_C1200</th>\n",
       "      <th>CLASSIFICATION_C2000</th>\n",
       "      <th>CLASSIFICATION_C2100</th>\n",
       "      <th>CLASSIFICATION_C7000</th>\n",
       "      <th>...</th>\n",
       "      <th>ORGANIZATION_Association</th>\n",
       "      <th>ORGANIZATION_Co-operative</th>\n",
       "      <th>ORGANIZATION_Corporation</th>\n",
       "      <th>ORGANIZATION_Trust</th>\n",
       "      <th>INCOME_AMT_0</th>\n",
       "      <th>INCOME_AMT_1-9999</th>\n",
       "      <th>INCOME_AMT_10000-24999</th>\n",
       "      <th>INCOME_AMT_100000-499999</th>\n",
       "      <th>INCOME_AMT_1M+</th>\n",
       "      <th>INCOME_AMT_25000-99999</th>\n",
       "    </tr>\n",
       "  </thead>\n",
       "  <tbody>\n",
       "    <tr>\n",
       "      <th>1</th>\n",
       "      <td>108590</td>\n",
       "      <td>1</td>\n",
       "      <td>0</td>\n",
       "      <td>1</td>\n",
       "      <td>0</td>\n",
       "      <td>0</td>\n",
       "      <td>0</td>\n",
       "      <td>1</td>\n",
       "      <td>0</td>\n",
       "      <td>0</td>\n",
       "      <td>...</td>\n",
       "      <td>0</td>\n",
       "      <td>1</td>\n",
       "      <td>0</td>\n",
       "      <td>0</td>\n",
       "      <td>0</td>\n",
       "      <td>1</td>\n",
       "      <td>0</td>\n",
       "      <td>0</td>\n",
       "      <td>0</td>\n",
       "      <td>0</td>\n",
       "    </tr>\n",
       "    <tr>\n",
       "      <th>3</th>\n",
       "      <td>6692</td>\n",
       "      <td>1</td>\n",
       "      <td>1</td>\n",
       "      <td>0</td>\n",
       "      <td>0</td>\n",
       "      <td>0</td>\n",
       "      <td>0</td>\n",
       "      <td>1</td>\n",
       "      <td>0</td>\n",
       "      <td>0</td>\n",
       "      <td>...</td>\n",
       "      <td>0</td>\n",
       "      <td>0</td>\n",
       "      <td>0</td>\n",
       "      <td>1</td>\n",
       "      <td>0</td>\n",
       "      <td>0</td>\n",
       "      <td>1</td>\n",
       "      <td>0</td>\n",
       "      <td>0</td>\n",
       "      <td>0</td>\n",
       "    </tr>\n",
       "    <tr>\n",
       "      <th>4</th>\n",
       "      <td>142590</td>\n",
       "      <td>1</td>\n",
       "      <td>0</td>\n",
       "      <td>1</td>\n",
       "      <td>0</td>\n",
       "      <td>1</td>\n",
       "      <td>0</td>\n",
       "      <td>0</td>\n",
       "      <td>0</td>\n",
       "      <td>0</td>\n",
       "      <td>...</td>\n",
       "      <td>0</td>\n",
       "      <td>0</td>\n",
       "      <td>0</td>\n",
       "      <td>1</td>\n",
       "      <td>0</td>\n",
       "      <td>0</td>\n",
       "      <td>0</td>\n",
       "      <td>1</td>\n",
       "      <td>0</td>\n",
       "      <td>0</td>\n",
       "    </tr>\n",
       "    <tr>\n",
       "      <th>5</th>\n",
       "      <td>5000</td>\n",
       "      <td>1</td>\n",
       "      <td>0</td>\n",
       "      <td>1</td>\n",
       "      <td>0</td>\n",
       "      <td>0</td>\n",
       "      <td>1</td>\n",
       "      <td>0</td>\n",
       "      <td>0</td>\n",
       "      <td>0</td>\n",
       "      <td>...</td>\n",
       "      <td>0</td>\n",
       "      <td>0</td>\n",
       "      <td>0</td>\n",
       "      <td>1</td>\n",
       "      <td>1</td>\n",
       "      <td>0</td>\n",
       "      <td>0</td>\n",
       "      <td>0</td>\n",
       "      <td>0</td>\n",
       "      <td>0</td>\n",
       "    </tr>\n",
       "    <tr>\n",
       "      <th>6</th>\n",
       "      <td>31452</td>\n",
       "      <td>1</td>\n",
       "      <td>0</td>\n",
       "      <td>1</td>\n",
       "      <td>0</td>\n",
       "      <td>1</td>\n",
       "      <td>0</td>\n",
       "      <td>0</td>\n",
       "      <td>0</td>\n",
       "      <td>0</td>\n",
       "      <td>...</td>\n",
       "      <td>0</td>\n",
       "      <td>0</td>\n",
       "      <td>0</td>\n",
       "      <td>1</td>\n",
       "      <td>0</td>\n",
       "      <td>0</td>\n",
       "      <td>0</td>\n",
       "      <td>1</td>\n",
       "      <td>0</td>\n",
       "      <td>0</td>\n",
       "    </tr>\n",
       "  </tbody>\n",
       "</table>\n",
       "<p>5 rows × 21 columns</p>\n",
       "</div>"
      ],
      "text/plain": [
       "   ASK_AMT  IS_SUCCESSFUL  AFFILIATION_CompanySponsored  \\\n",
       "1   108590              1                             0   \n",
       "3     6692              1                             1   \n",
       "4   142590              1                             0   \n",
       "5     5000              1                             0   \n",
       "6    31452              1                             0   \n",
       "\n",
       "   AFFILIATION_Independent  AFFILIATION_Other  CLASSIFICATION_C1000  \\\n",
       "1                        1                  0                     0   \n",
       "3                        0                  0                     0   \n",
       "4                        1                  0                     1   \n",
       "5                        1                  0                     0   \n",
       "6                        1                  0                     1   \n",
       "\n",
       "   CLASSIFICATION_C1200  CLASSIFICATION_C2000  CLASSIFICATION_C2100  \\\n",
       "1                     0                     1                     0   \n",
       "3                     0                     1                     0   \n",
       "4                     0                     0                     0   \n",
       "5                     1                     0                     0   \n",
       "6                     0                     0                     0   \n",
       "\n",
       "   CLASSIFICATION_C7000  ...  ORGANIZATION_Association  \\\n",
       "1                     0  ...                         0   \n",
       "3                     0  ...                         0   \n",
       "4                     0  ...                         0   \n",
       "5                     0  ...                         0   \n",
       "6                     0  ...                         0   \n",
       "\n",
       "   ORGANIZATION_Co-operative  ORGANIZATION_Corporation  ORGANIZATION_Trust  \\\n",
       "1                          1                         0                   0   \n",
       "3                          0                         0                   1   \n",
       "4                          0                         0                   1   \n",
       "5                          0                         0                   1   \n",
       "6                          0                         0                   1   \n",
       "\n",
       "   INCOME_AMT_0  INCOME_AMT_1-9999  INCOME_AMT_10000-24999  \\\n",
       "1             0                  1                       0   \n",
       "3             0                  0                       1   \n",
       "4             0                  0                       0   \n",
       "5             1                  0                       0   \n",
       "6             0                  0                       0   \n",
       "\n",
       "   INCOME_AMT_100000-499999  INCOME_AMT_1M+  INCOME_AMT_25000-99999  \n",
       "1                         0               0                       0  \n",
       "3                         0               0                       0  \n",
       "4                         1               0                       0  \n",
       "5                         0               0                       0  \n",
       "6                         1               0                       0  \n",
       "\n",
       "[5 rows x 21 columns]"
      ]
     },
     "execution_count": 18,
     "metadata": {},
     "output_type": "execute_result"
    }
   ],
   "source": [
    "# Convert categorical data to numeric with `pd.get_dummies`\n",
    "# (AFFILIATION,CLASSIFICATION, USE_CASE, ORGANIZATION)\n",
    "application_df_noncat = pd.get_dummies(data=application_df_filtered, columns=['AFFILIATION', 'CLASSIFICATION', \n",
    "                                                                             'ORGANIZATION', 'INCOME_AMT'])\n",
    "application_df_noncat.head()"
   ]
  },
  {
   "cell_type": "code",
   "execution_count": 19,
   "metadata": {
    "tags": []
   },
   "outputs": [],
   "source": [
    "# Split our preprocessed data into our features and target arrays\n",
    "y = application_df_noncat['IS_SUCCESSFUL']\n",
    "X = application_df_noncat.drop(columns='IS_SUCCESSFUL')\n",
    "\n",
    "# Split the preprocessed data into a training and testing dataset\n",
    "X_train, X_test, y_train, y_test = train_test_split(X, y, random_state=42, stratify=y)"
   ]
  },
  {
   "cell_type": "code",
   "execution_count": 20,
   "metadata": {},
   "outputs": [],
   "source": [
    "# Create a StandardScaler instances\n",
    "scaler = StandardScaler()\n",
    "\n",
    "# Fit the StandardScaler\n",
    "X_scaler = scaler.fit(X_train)\n",
    "\n",
    "# Scale the data\n",
    "X_train_scaled = X_scaler.transform(X_train)\n",
    "X_test_scaled = X_scaler.transform(X_test)"
   ]
  },
  {
   "cell_type": "markdown",
   "metadata": {},
   "source": [
    "## Compile, Train and Evaluate the Model"
   ]
  },
  {
   "cell_type": "code",
   "execution_count": 21,
   "metadata": {
    "tags": []
   },
   "outputs": [
    {
     "name": "stdout",
     "output_type": "stream",
     "text": [
      "Model: \"sequential\"\n",
      "_________________________________________________________________\n",
      " Layer (type)                Output Shape              Param #   \n",
      "=================================================================\n",
      " dense (Dense)               (None, 12)                252       \n",
      "                                                                 \n",
      " dense_1 (Dense)             (None, 8)                 104       \n",
      "                                                                 \n",
      " dense_2 (Dense)             (None, 1)                 9         \n",
      "                                                                 \n",
      "=================================================================\n",
      "Total params: 365 (1.43 KB)\n",
      "Trainable params: 365 (1.43 KB)\n",
      "Non-trainable params: 0 (0.00 Byte)\n",
      "_________________________________________________________________\n"
     ]
    }
   ],
   "source": [
    "# Define the model - deep neural net, i.e., the number of input features and hidden nodes for each layer.\n",
    "\n",
    "nn = tf.keras.models.Sequential()\n",
    "\n",
    "# First hidden layer\n",
    "nn.add(tf.keras.layers.Dense(units=12, activation=\"tanh\", input_dim=20))\n",
    "\n",
    "# Second hidden layer\n",
    "nn.add(tf.keras.layers.Dense(units=8, activation=\"relu\"))\n",
    "\n",
    "# Output layer\n",
    "nn.add(tf.keras.layers.Dense(units=1, activation=\"sigmoid\"))\n",
    "\n",
    "# Check the structure of the model\n",
    "nn.summary()"
   ]
  },
  {
   "cell_type": "code",
   "execution_count": 22,
   "metadata": {
    "tags": []
   },
   "outputs": [],
   "source": [
    "# Compile the model \n",
    "nn.compile(loss=\"binary_crossentropy\", optimizer=\"adam\", metrics=[\"accuracy\"])"
   ]
  },
  {
   "cell_type": "code",
   "execution_count": 23,
   "metadata": {
    "tags": []
   },
   "outputs": [
    {
     "name": "stdout",
     "output_type": "stream",
     "text": [
      "Epoch 1/100\n",
      "634/634 [==============================] - 2s 2ms/step - loss: 0.6021 - accuracy: 0.6886\n",
      "Epoch 2/100\n",
      "634/634 [==============================] - 1s 2ms/step - loss: 0.5716 - accuracy: 0.7192\n",
      "Epoch 3/100\n",
      "634/634 [==============================] - 1s 2ms/step - loss: 0.5689 - accuracy: 0.7206\n",
      "Epoch 4/100\n",
      "634/634 [==============================] - 1s 2ms/step - loss: 0.5674 - accuracy: 0.7212\n",
      "Epoch 5/100\n",
      "634/634 [==============================] - 1s 2ms/step - loss: 0.5667 - accuracy: 0.7220\n",
      "Epoch 6/100\n",
      "634/634 [==============================] - 1s 2ms/step - loss: 0.5657 - accuracy: 0.7212\n",
      "Epoch 7/100\n",
      "634/634 [==============================] - 1s 2ms/step - loss: 0.5651 - accuracy: 0.7218\n",
      "Epoch 8/100\n",
      "634/634 [==============================] - 1s 2ms/step - loss: 0.5650 - accuracy: 0.7223\n",
      "Epoch 9/100\n",
      "634/634 [==============================] - 1s 2ms/step - loss: 0.5647 - accuracy: 0.7219\n",
      "Epoch 10/100\n",
      "634/634 [==============================] - 1s 2ms/step - loss: 0.5645 - accuracy: 0.7212\n",
      "Epoch 11/100\n",
      "634/634 [==============================] - 1s 2ms/step - loss: 0.5646 - accuracy: 0.7220\n",
      "Epoch 12/100\n",
      "634/634 [==============================] - 1s 2ms/step - loss: 0.5640 - accuracy: 0.7226\n",
      "Epoch 13/100\n",
      "634/634 [==============================] - 1s 2ms/step - loss: 0.5636 - accuracy: 0.7223\n",
      "Epoch 14/100\n",
      "634/634 [==============================] - 1s 2ms/step - loss: 0.5639 - accuracy: 0.7225\n",
      "Epoch 15/100\n",
      "634/634 [==============================] - 1s 2ms/step - loss: 0.5637 - accuracy: 0.7218\n",
      "Epoch 16/100\n",
      "634/634 [==============================] - 1s 2ms/step - loss: 0.5637 - accuracy: 0.7218\n",
      "Epoch 17/100\n",
      "634/634 [==============================] - 1s 2ms/step - loss: 0.5635 - accuracy: 0.7225\n",
      "Epoch 18/100\n",
      "634/634 [==============================] - 1s 2ms/step - loss: 0.5636 - accuracy: 0.7220\n",
      "Epoch 19/100\n",
      "634/634 [==============================] - 1s 2ms/step - loss: 0.5636 - accuracy: 0.7216\n",
      "Epoch 20/100\n",
      "634/634 [==============================] - 1s 2ms/step - loss: 0.5636 - accuracy: 0.7222\n",
      "Epoch 21/100\n",
      "634/634 [==============================] - 1s 2ms/step - loss: 0.5634 - accuracy: 0.7225\n",
      "Epoch 22/100\n",
      "634/634 [==============================] - 1s 2ms/step - loss: 0.5634 - accuracy: 0.7216\n",
      "Epoch 23/100\n",
      "634/634 [==============================] - 1s 2ms/step - loss: 0.5633 - accuracy: 0.7236\n",
      "Epoch 24/100\n",
      "634/634 [==============================] - 1s 2ms/step - loss: 0.5633 - accuracy: 0.7226\n",
      "Epoch 25/100\n",
      "634/634 [==============================] - 1s 2ms/step - loss: 0.5632 - accuracy: 0.7226\n",
      "Epoch 26/100\n",
      "634/634 [==============================] - 1s 2ms/step - loss: 0.5630 - accuracy: 0.7233\n",
      "Epoch 27/100\n",
      "634/634 [==============================] - 1s 2ms/step - loss: 0.5629 - accuracy: 0.7220\n",
      "Epoch 28/100\n",
      "634/634 [==============================] - 1s 2ms/step - loss: 0.5629 - accuracy: 0.7224\n",
      "Epoch 29/100\n",
      "634/634 [==============================] - 1s 2ms/step - loss: 0.5630 - accuracy: 0.7235\n",
      "Epoch 30/100\n",
      "634/634 [==============================] - 1s 2ms/step - loss: 0.5628 - accuracy: 0.7232\n",
      "Epoch 31/100\n",
      "634/634 [==============================] - 1s 2ms/step - loss: 0.5628 - accuracy: 0.7239\n",
      "Epoch 32/100\n",
      "634/634 [==============================] - 1s 2ms/step - loss: 0.5628 - accuracy: 0.7232\n",
      "Epoch 33/100\n",
      "634/634 [==============================] - 1s 2ms/step - loss: 0.5628 - accuracy: 0.7223\n",
      "Epoch 34/100\n",
      "634/634 [==============================] - 1s 2ms/step - loss: 0.5628 - accuracy: 0.7225\n",
      "Epoch 35/100\n",
      "634/634 [==============================] - 1s 2ms/step - loss: 0.5629 - accuracy: 0.7241\n",
      "Epoch 36/100\n",
      "634/634 [==============================] - 1s 2ms/step - loss: 0.5627 - accuracy: 0.7230\n",
      "Epoch 37/100\n",
      "634/634 [==============================] - 1s 2ms/step - loss: 0.5626 - accuracy: 0.7230\n",
      "Epoch 38/100\n",
      "634/634 [==============================] - 1s 2ms/step - loss: 0.5625 - accuracy: 0.7236\n",
      "Epoch 39/100\n",
      "634/634 [==============================] - 1s 2ms/step - loss: 0.5625 - accuracy: 0.7240\n",
      "Epoch 40/100\n",
      "634/634 [==============================] - 1s 2ms/step - loss: 0.5627 - accuracy: 0.7236\n",
      "Epoch 41/100\n",
      "634/634 [==============================] - 1s 2ms/step - loss: 0.5624 - accuracy: 0.7229\n",
      "Epoch 42/100\n",
      "634/634 [==============================] - 1s 2ms/step - loss: 0.5626 - accuracy: 0.7229\n",
      "Epoch 43/100\n",
      "634/634 [==============================] - 1s 2ms/step - loss: 0.5627 - accuracy: 0.7235\n",
      "Epoch 44/100\n",
      "634/634 [==============================] - 1s 2ms/step - loss: 0.5625 - accuracy: 0.7224\n",
      "Epoch 45/100\n",
      "634/634 [==============================] - 1s 2ms/step - loss: 0.5627 - accuracy: 0.7235\n",
      "Epoch 46/100\n",
      "634/634 [==============================] - 1s 2ms/step - loss: 0.5623 - accuracy: 0.7243\n",
      "Epoch 47/100\n",
      "634/634 [==============================] - 1s 2ms/step - loss: 0.5626 - accuracy: 0.7230\n",
      "Epoch 48/100\n",
      "634/634 [==============================] - 1s 2ms/step - loss: 0.5623 - accuracy: 0.7227\n",
      "Epoch 49/100\n",
      "634/634 [==============================] - 1s 2ms/step - loss: 0.5620 - accuracy: 0.7235\n",
      "Epoch 50/100\n",
      "634/634 [==============================] - 1s 2ms/step - loss: 0.5622 - accuracy: 0.7238\n",
      "Epoch 51/100\n",
      "634/634 [==============================] - 1s 2ms/step - loss: 0.5623 - accuracy: 0.7231\n",
      "Epoch 52/100\n",
      "634/634 [==============================] - 1s 2ms/step - loss: 0.5621 - accuracy: 0.7248\n",
      "Epoch 53/100\n",
      "634/634 [==============================] - 1s 2ms/step - loss: 0.5620 - accuracy: 0.7236\n",
      "Epoch 54/100\n",
      "634/634 [==============================] - 1s 2ms/step - loss: 0.5622 - accuracy: 0.7240\n",
      "Epoch 55/100\n",
      "634/634 [==============================] - 1s 2ms/step - loss: 0.5623 - accuracy: 0.7239\n",
      "Epoch 56/100\n",
      "634/634 [==============================] - 1s 2ms/step - loss: 0.5620 - accuracy: 0.7245\n",
      "Epoch 57/100\n",
      "634/634 [==============================] - 1s 2ms/step - loss: 0.5623 - accuracy: 0.7243\n",
      "Epoch 58/100\n",
      "634/634 [==============================] - 1s 2ms/step - loss: 0.5622 - accuracy: 0.7239\n",
      "Epoch 59/100\n",
      "634/634 [==============================] - 1s 2ms/step - loss: 0.5620 - accuracy: 0.7232\n",
      "Epoch 60/100\n",
      "634/634 [==============================] - 2s 3ms/step - loss: 0.5620 - accuracy: 0.7243\n",
      "Epoch 61/100\n",
      "634/634 [==============================] - 3s 4ms/step - loss: 0.5619 - accuracy: 0.7245\n",
      "Epoch 62/100\n",
      "634/634 [==============================] - 2s 3ms/step - loss: 0.5621 - accuracy: 0.7239\n",
      "Epoch 63/100\n",
      "634/634 [==============================] - 2s 2ms/step - loss: 0.5619 - accuracy: 0.7243\n",
      "Epoch 64/100\n",
      "634/634 [==============================] - 1s 2ms/step - loss: 0.5620 - accuracy: 0.7241\n",
      "Epoch 65/100\n",
      "634/634 [==============================] - 1s 2ms/step - loss: 0.5619 - accuracy: 0.7243\n",
      "Epoch 66/100\n",
      "634/634 [==============================] - 1s 2ms/step - loss: 0.5621 - accuracy: 0.7243\n",
      "Epoch 67/100\n",
      "634/634 [==============================] - 2s 2ms/step - loss: 0.5618 - accuracy: 0.7255\n",
      "Epoch 68/100\n",
      "634/634 [==============================] - 2s 2ms/step - loss: 0.5619 - accuracy: 0.7249\n",
      "Epoch 69/100\n",
      "634/634 [==============================] - 1s 2ms/step - loss: 0.5615 - accuracy: 0.7236\n",
      "Epoch 70/100\n",
      "634/634 [==============================] - 1s 2ms/step - loss: 0.5621 - accuracy: 0.7241\n",
      "Epoch 71/100\n",
      "634/634 [==============================] - 2s 2ms/step - loss: 0.5619 - accuracy: 0.7234\n",
      "Epoch 72/100\n",
      "634/634 [==============================] - 2s 3ms/step - loss: 0.5618 - accuracy: 0.7246\n",
      "Epoch 73/100\n",
      "634/634 [==============================] - 2s 2ms/step - loss: 0.5618 - accuracy: 0.7238\n",
      "Epoch 74/100\n",
      "634/634 [==============================] - 1s 2ms/step - loss: 0.5619 - accuracy: 0.7248\n",
      "Epoch 75/100\n",
      "634/634 [==============================] - 1s 2ms/step - loss: 0.5618 - accuracy: 0.7247\n",
      "Epoch 76/100\n",
      "634/634 [==============================] - 1s 2ms/step - loss: 0.5618 - accuracy: 0.7240\n",
      "Epoch 77/100\n",
      "634/634 [==============================] - 2s 2ms/step - loss: 0.5618 - accuracy: 0.7245\n",
      "Epoch 78/100\n",
      "634/634 [==============================] - 1s 2ms/step - loss: 0.5618 - accuracy: 0.7241\n",
      "Epoch 79/100\n",
      "634/634 [==============================] - 1s 2ms/step - loss: 0.5617 - accuracy: 0.7244\n",
      "Epoch 80/100\n",
      "634/634 [==============================] - 1s 2ms/step - loss: 0.5617 - accuracy: 0.7249\n",
      "Epoch 81/100\n",
      "634/634 [==============================] - 1s 2ms/step - loss: 0.5614 - accuracy: 0.7245\n",
      "Epoch 82/100\n",
      "634/634 [==============================] - 2s 2ms/step - loss: 0.5619 - accuracy: 0.7239\n",
      "Epoch 83/100\n",
      "634/634 [==============================] - 1s 2ms/step - loss: 0.5616 - accuracy: 0.7240\n",
      "Epoch 84/100\n",
      "634/634 [==============================] - 1s 2ms/step - loss: 0.5618 - accuracy: 0.7244\n",
      "Epoch 85/100\n",
      "634/634 [==============================] - 1s 2ms/step - loss: 0.5614 - accuracy: 0.7247\n",
      "Epoch 86/100\n",
      "634/634 [==============================] - 1s 2ms/step - loss: 0.5616 - accuracy: 0.7241\n",
      "Epoch 87/100\n",
      "634/634 [==============================] - 1s 2ms/step - loss: 0.5617 - accuracy: 0.7244\n",
      "Epoch 88/100\n",
      "634/634 [==============================] - 1s 2ms/step - loss: 0.5616 - accuracy: 0.7251\n",
      "Epoch 89/100\n",
      "634/634 [==============================] - 1s 2ms/step - loss: 0.5616 - accuracy: 0.7253\n",
      "Epoch 90/100\n",
      "634/634 [==============================] - 1s 2ms/step - loss: 0.5615 - accuracy: 0.7248\n",
      "Epoch 91/100\n",
      "634/634 [==============================] - 1s 2ms/step - loss: 0.5616 - accuracy: 0.7239\n",
      "Epoch 92/100\n",
      "634/634 [==============================] - 2s 2ms/step - loss: 0.5618 - accuracy: 0.7247\n",
      "Epoch 93/100\n",
      "634/634 [==============================] - 2s 2ms/step - loss: 0.5615 - accuracy: 0.7247\n",
      "Epoch 94/100\n",
      "634/634 [==============================] - 1s 2ms/step - loss: 0.5616 - accuracy: 0.7252\n",
      "Epoch 95/100\n",
      "634/634 [==============================] - 2s 2ms/step - loss: 0.5615 - accuracy: 0.7242\n",
      "Epoch 96/100\n",
      "634/634 [==============================] - 2s 2ms/step - loss: 0.5616 - accuracy: 0.7244\n",
      "Epoch 97/100\n",
      "634/634 [==============================] - 1s 2ms/step - loss: 0.5614 - accuracy: 0.7243\n",
      "Epoch 98/100\n",
      "634/634 [==============================] - 1s 2ms/step - loss: 0.5612 - accuracy: 0.7252\n",
      "Epoch 99/100\n",
      "634/634 [==============================] - 2s 2ms/step - loss: 0.5616 - accuracy: 0.7249\n",
      "Epoch 100/100\n",
      "634/634 [==============================] - 1s 2ms/step - loss: 0.5612 - accuracy: 0.7244\n"
     ]
    }
   ],
   "source": [
    "# Set a callback for every 5 epochs to an HDF5 file\n",
    "mc = tf.keras.callbacks.ModelCheckpoint(filepath='AlphabetSoupCharity_Optimization2_fit.h5', save_weights_only=True, save_freq=5)\n",
    "\n",
    "# Train the model over 100 epochs\n",
    "fit_model = nn.fit(X_train_scaled, y_train, epochs=100, callbacks=[mc])"
   ]
  },
  {
   "cell_type": "code",
   "execution_count": 24,
   "metadata": {
    "tags": []
   },
   "outputs": [
    {
     "name": "stdout",
     "output_type": "stream",
     "text": [
      "212/212 - 0s - loss: 0.5623 - accuracy: 0.7220 - 256ms/epoch - 1ms/step\n",
      "Loss: 0.562326192855835, Accuracy: 0.7220414280891418\n"
     ]
    }
   ],
   "source": [
    "# Evaluate the model using the test data\n",
    "model_loss, model_accuracy = nn.evaluate(X_test_scaled,y_test,verbose=2)\n",
    "print(f\"Loss: {model_loss}, Accuracy: {model_accuracy}\")"
   ]
  },
  {
   "cell_type": "code",
   "execution_count": null,
   "metadata": {
    "tags": []
   },
   "outputs": [],
   "source": [
    "# Export the model to HDF5 file\n",
    "nn.save('AlphabetSoupCharity_Optimization2_model.h5', save_format='h5')"
   ]
  }
 ],
 "metadata": {
  "kernelspec": {
   "display_name": "Python 3 (ipykernel)",
   "language": "python",
   "name": "python3"
  },
  "language_info": {
   "codemirror_mode": {
    "name": "ipython",
    "version": 3
   },
   "file_extension": ".py",
   "mimetype": "text/x-python",
   "name": "python",
   "nbconvert_exporter": "python",
   "pygments_lexer": "ipython3",
   "version": "3.10.11"
  },
  "vscode": {
   "interpreter": {
    "hash": "31f2aee4e71d21fbe5cf8b01ff0e069b9275f58929596ceb00d14d90e3e16cd6"
   }
  }
 },
 "nbformat": 4,
 "nbformat_minor": 4
}
